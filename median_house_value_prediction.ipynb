{
 "cells": [
  {
   "cell_type": "code",
   "execution_count": null,
   "metadata": {
    "id": "JLggZ6vnbz9M"
   },
   "outputs": [],
   "source": [
    "!pip install pandas\n",
    "!pip install scikit-learn\n",
    "!pip install tensorflow\n",
    "!pip install matplotlib"
   ]
  },
  {
   "cell_type": "code",
   "execution_count": null,
   "metadata": {
    "id": "t2Xq0Fteb5tV"
   },
   "outputs": [],
   "source": [
    "#pd imports(for reading csv data input)\n",
    "import pandas as pd\n",
    "#np js bc\n",
    "import numpy as np"
   ]
  },
  {
   "cell_type": "code",
   "execution_count": null,
   "metadata": {
    "id": "zd57mBvlUSVU"
   },
   "outputs": [],
   "source": [
    "#sklearn imports\n",
    "from sklearn.model_selection import train_test_split\n",
    "from sklearn.preprocessing import StandardScaler"
   ]
  },
  {
   "cell_type": "code",
   "execution_count": null,
   "metadata": {
    "id": "HtZseAMWPk7q"
   },
   "outputs": [],
   "source": [
    "train_data = pd.read_csv('data/california_housing_train.csv').dropna()\n",
    "test_data = pd.read_csv('data/california_housing_test.csv').dropna()"
   ]
  },
  {
   "cell_type": "code",
   "execution_count": null,
   "metadata": {
    "id": "_7P40QFdPt7M"
   },
   "outputs": [],
   "source": [
    "train_data.head()"
   ]
  },
  {
   "cell_type": "code",
   "execution_count": null,
   "metadata": {
    "id": "_Y3kX9qJcPnO"
   },
   "outputs": [],
   "source": [
    "train_data.tail()"
   ]
  },
  {
   "cell_type": "markdown",
   "metadata": {
    "id": "WtDnph-7VNLE"
   },
   "source": [
    "y value is very big:\n",
    "  \n",
    "  - need to standardize\n",
    "  - need to make the mean zero(subtract the mean from all the values)\n",
    "\n",
    "this can be done using sk-learn's StandardScaler"
   ]
  },
  {
   "cell_type": "code",
   "execution_count": null,
   "metadata": {
    "id": "psmBwdDGUc6m"
   },
   "outputs": [],
   "source": [
    "scaler = StandardScaler()\n",
    "\n",
    "X_train = train_data.drop(columns=\"median_house_value\")\n",
    "y_train = train_data[\"median_house_value\"]\n",
    "\n",
    "X_test = test_data.drop(columns=\"median_house_value\")\n",
    "y_test = test_data[\"median_house_value\"]\n",
    "\n",
    "#standardize data\n",
    "scaled_X_train = scaler.fit_transform(X_train.values)\n",
    "scaled_y_train = scaler.fit_transform(y_train.values.reshape(-1, 1))\n",
    "\n",
    "scaled_X_test = scaler.fit_transform(X_test.values)\n",
    "scaled_y_test = scaler.fit_transform(y_test.values.reshape(-1, 1))"
   ]
  },
  {
   "cell_type": "code",
   "execution_count": null,
   "metadata": {
    "id": "ZGJmF9BHP0bD"
   },
   "outputs": [],
   "source": [
    "from tensorflow.keras.models import Sequential, load_model\n",
    "from tensorflow.keras.layers import Dense\n",
    "from tensorflow.keras import Input"
   ]
  },
  {
   "cell_type": "code",
   "execution_count": null,
   "metadata": {
    "id": "-6zANtPwRry3"
   },
   "outputs": [],
   "source": [
    "#find input\n",
    "print(X_train.shape[1])"
   ]
  },
  {
   "cell_type": "code",
   "execution_count": null,
   "metadata": {
    "id": "erLKjzMRRVbB"
   },
   "outputs": [],
   "source": [
    "def create_model():\n",
    "  model = Sequential();\n",
    "  model.add(Input(shape=(8,)))\n",
    "  model.add(Dense(units=64, activation=\"relu\"))\n",
    "  model.add(Dense(units=32, activation=\"relu\"))\n",
    "  model.add(Dense(units=1))\n",
    "  return model"
   ]
  },
  {
   "cell_type": "code",
   "execution_count": null,
   "metadata": {
    "id": "FteDu0SBw8X0"
   },
   "outputs": [],
   "source": [
    "from tensorflow.keras.optimizers import Adam\n",
    "from tensorflow.keras.callbacks import EarlyStopping"
   ]
  },
  {
   "cell_type": "code",
   "execution_count": null,
   "metadata": {
    "id": "pmHGga78Y5KQ"
   },
   "outputs": [],
   "source": [
    "model=create_model()\n",
    "model.compile(optimizer=Adam(learning_rate=0.01),\n",
    "              loss='mean_squared_error',\n",
    "              metrics=['mae']\n",
    "              )"
   ]
  },
  {
   "cell_type": "code",
   "execution_count": null,
   "metadata": {
    "id": "0VRaRWHTXnL-",
    "scrolled": true
   },
   "outputs": [],
   "source": [
    "#earlystopping to prevent overfitting\n",
    "early_stopping = EarlyStopping(patience=5, min_delta=0.0001, verbose=1, restore_best_weights=True)\n",
    "\n",
    "model.fit(x=scaled_X_train, y=scaled_y_train,\n",
    "          batch_size=32, epochs = 600,\n",
    "          callbacks=[early_stopping],\n",
    "          verbose=True)"
   ]
  },
  {
   "cell_type": "code",
   "execution_count": null,
   "metadata": {
    "id": "h9N3BCjT7HqU"
   },
   "outputs": [],
   "source": [
    "#save to ur folder\n",
    "!mkdir -p models\n",
    "model.save(filepath=\"models/600-epoch.keras\")"
   ]
  },
  {
   "cell_type": "code",
   "execution_count": null,
   "metadata": {
    "id": "8TNC1hXQjxxb"
   },
   "outputs": [],
   "source": [
    "#converting scaled predictions into real values\n",
    "y_hat = scaler.inverse_transform((model.predict(scaled_X_test)))"
   ]
  },
  {
   "cell_type": "code",
   "execution_count": null,
   "metadata": {
    "id": "iuy-T-7s2bl_"
   },
   "outputs": [],
   "source": [
    "y_hat"
   ]
  },
  {
   "cell_type": "code",
   "execution_count": null,
   "metadata": {
    "id": "LqPxRKT4W0cn"
   },
   "outputs": [],
   "source": [
    "from sklearn.metrics import mean_absolute_error\n",
    "\n",
    "# percentage error\n",
    "print(mean_absolute_error(y_true=y_test , y_pred=y_hat) / np.mean(y_test))"
   ]
  },
  {
   "cell_type": "code",
   "execution_count": null,
   "metadata": {},
   "outputs": [],
   "source": [
    "#i think u should train w less epoch"
   ]
  }
 ],
 "metadata": {
  "colab": {
   "provenance": []
  },
  "kernelspec": {
   "display_name": "Python 3 (ipykernel)",
   "language": "python",
   "name": "python3"
  },
  "language_info": {
   "codemirror_mode": {
    "name": "ipython",
    "version": 3
   },
   "file_extension": ".py",
   "mimetype": "text/x-python",
   "name": "python",
   "nbconvert_exporter": "python",
   "pygments_lexer": "ipython3",
   "version": "3.11.11"
  }
 },
 "nbformat": 4,
 "nbformat_minor": 4
}
